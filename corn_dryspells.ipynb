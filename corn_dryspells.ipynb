{
 "cells": [
  {
   "cell_type": "code",
   "execution_count": null,
   "id": "368649bb-e43d-4c05-a500-57982e30331d",
   "metadata": {
    "tags": []
   },
   "outputs": [],
   "source": [
    "# %pip install dask_gateway\n",
    "# %pip install thermofeel\n",
    "# %pip install xclim\n",
    "# %pip install pygmt"
   ]
  },
  {
   "cell_type": "code",
   "execution_count": null,
   "id": "0ad396e8-71d7-425e-8df4-791cb7525694",
   "metadata": {},
   "outputs": [],
   "source": [
    "import os\n",
    "os.environ['USE_PYGEOS'] = '0'\n",
    "import s3fs\n",
    "import numpy as np\n",
    "import dask\n",
    "import xclim\n",
    "import xesmf as xe\n",
    "import matplotlib.pyplot as plt\n",
    "import matplotlib\n",
    "import xarray as xr\n",
    "import thermofeel as tf\n",
    "import dask\n",
    "from dask.distributed import Client\n",
    "from dask_gateway import Gateway\n",
    "import pandas as pd\n",
    "import cf_xarray\n",
    "from carbonplan import styles\n",
    "import cartopy.crs as ccrs\n",
    "import sys\n",
    "import regionmask\n",
    "import pygmt\n",
    "from cmip6_downscaling.data.utils import lon_to_180\n"
   ]
  },
  {
   "cell_type": "code",
   "execution_count": null,
   "id": "48ccc731-1637-4b8c-b043-01e8ca062612",
   "metadata": {},
   "outputs": [],
   "source": [
    "client = Client(n_workers=8)\n",
    "client\n"
   ]
  },
  {
   "cell_type": "code",
   "execution_count": null,
   "id": "bd2b4ed6-1550-4c08-8c42-025478e52554",
   "metadata": {},
   "outputs": [],
   "source": [
    "def find_nasanex_filename(nasa_nex_runs_df, gcm, scenario):\n",
    "    '''\n",
    "    TODO: docstring\n",
    "    '''\n",
    "    template_filename = nasa_nex_runs_df[(nasa_nex_runs_df['GCM']==gcm)&\\\n",
    "                     (nasa_nex_runs_df['scenario']==scenario)&\\\n",
    "                     (nasa_nex_runs_df['variable']=='tasmax')]['file_name'].iloc[0]\n",
    "    _variable, _timestep, _gcm, _scenario, ensemble_member, grid_code, _yearnc = template_filename.split('_')\n",
    "    return ensemble_member, grid_code"
   ]
  },
  {
   "cell_type": "code",
   "execution_count": null,
   "id": "4026317c-9026-4fb4-915c-dd56df4376c5",
   "metadata": {},
   "outputs": [],
   "source": [
    "def load_nasanex(scenario, gcm, variables, years, nasanex_df):\n",
    "    '''\n",
    "    TODO: docstring\n",
    "    '''\n",
    "    fs = s3fs.S3FileSystem(anon=True, default_fill_cache=False)\n",
    "\n",
    "    file_objs = {}\n",
    "    ds_dict = {}\n",
    "    ds = xr.Dataset()\n",
    "    ensemble_member, grid_code = find_nasanex_filename(nasanex_df, gcm, scenario)\n",
    "    for var in variables: \n",
    "        file_objs[var] = [fs.open(f'nex-gddp-cmip6/NEX-GDDP-CMIP6/{gcm}/{scenario}/{ensemble_member}/{var}/{var}_day_{gcm}_{scenario}_{ensemble_member}_{grid_code}_{year}.nc') for year in years]\n",
    "        ds[var] = xr.open_mfdataset(file_objs[var], engine='h5netcdf')[var]\n",
    "    ds = ds.chunk({'time': 40})\n",
    "    ds = ds.persist()\n",
    "    return ds"
   ]
  },
  {
   "cell_type": "code",
   "execution_count": null,
   "id": "2c5c5154-d712-4d07-8aff-a1202194585e",
   "metadata": {},
   "outputs": [],
   "source": [
    "df = pd.read_csv('../extreme-heat-draft/notebooks/gddp-cmip6-files.csv')\n",
    "nasa_nex_runs = pd.DataFrame([run.split('/') for run in df[' fileURL'].values]).drop([0,1,2,3], axis=1)\n",
    "nasa_nex_runs.columns = ['GCM', 'scenario', 'ensemble_member', 'variable', 'file_name']"
   ]
  },
  {
   "cell_type": "code",
   "execution_count": null,
   "id": "bfbb5c7c-b03d-46e9-973a-7e040dfbe0e3",
   "metadata": {},
   "outputs": [],
   "source": [
    "# Find corn heat units\n",
    "# per https://canterra.com/blog/corn-seed/calculating-chu-gdd-in-corn/\n",
    "# FUN FACT: It takes approximately 150-180 CHU’s for a corn seedling to germinate and emerge.\n",
    "# so we mask where CHU > 150\n",
    "# corn needs ~2500 gdu per https://agrigold.com/agronomy/crop-growth-development/heat-units-and-corn-maturity/\n",
    "NECESSARY_HEAT_UNITS = 2500\n",
    "# corn needs greater than 25 inches of precipitation. we'll just do an annual sum\n",
    "# and assume that they can store the rain\n",
    "NECESSARY_PRECIPITATION = 25 * 25.4 / 86400 # kg /m**2 s \n",
    "GROWING_SEASON_THRESHOLD = 10"
   ]
  },
  {
   "cell_type": "code",
   "execution_count": null,
   "id": "fc949836-8f81-4a82-a2d1-40fd27663ec8",
   "metadata": {},
   "outputs": [],
   "source": [
    "scenario_years = {'historical':np.arange(1970,2015),\n",
    "                  'ssp370': np.arange(2015,2100)}"
   ]
  },
  {
   "cell_type": "code",
   "execution_count": null,
   "id": "65847941-1bb4-46eb-b5d3-cb5275fee0d6",
   "metadata": {},
   "outputs": [],
   "source": [
    "def calculate_dryspell_metrics(ds, year, dryspell_treshold=1.0, dryspell_length=14):\n",
    "    # calculate the daily corn units\n",
    "    corn_units = xclim.indicators.atmos.corn_heat_units(ds=ds)#.groupby('time.year')#.sum()\n",
    "\n",
    "    # find out WHEN the corn units are over a certain threshold\n",
    "    warm_enough = (corn_units.groupby('time.year').sum() > NECESSARY_HEAT_UNITS)\n",
    "\n",
    "    results = xclim.indicators.atmos.dry_spell_total_length(ds=ds, \n",
    "                                                               window=dryspell_length\n",
    "                                                              ).rename({'time': 'year'})\n",
    "    results = results.assign_coords({'year': [pd.to_datetime(year, format='%Y')]}).astype('float')\n",
    "    results = results.to_dataset(name='dry_spell_days').astype('float')\n",
    "\n",
    "    no_dry_spells_mask = results['dry_spell_days']<14\n",
    "\n",
    "    results['CornPossible'] = corn_units.groupby('time.year').sum().where(warm_enough)\n",
    "    # This does not account for thermal stresses due to high temperatures\n",
    "    # as outlined in https://www.ncbi.nlm.nih.gov/pmc/articles/PMC7913793/\n",
    "    results['CornSafe'] = results['CornPossible'].where(no_dry_spells_mask)\n",
    "    \n",
    "    return results"
   ]
  },
  {
   "cell_type": "code",
   "execution_count": null,
   "id": "88b8f1b4-fc59-4d50-9a3c-20fa68f9ed56",
   "metadata": {},
   "outputs": [],
   "source": [
    "gcm = 'CanESM5'\n",
    "for scenario, years in scenario_years.items():\n",
    "    id_string = f\"{gcm}-{scenario}\"\n",
    "\n",
    "    output = f\"s3://carbonplan-data-viewer/dryspells_corn/{id_string}.zarr\"\n",
    "    for year in years: \n",
    "        ds = load_nasanex(gcm=gcm, scenario=scenario,\n",
    "                              variables=['tasmax', 'pr', 'tasmin'], \n",
    "                              years=[year], nasanex_df=nasa_nex_runs)\n",
    "        out_ds = calculate_dryspell_metrics(ds, year)\n",
    "        # calculate elevation-adjusted pressure\n",
    "        # out_ds = out_ds.assign_coords({'year': })\n",
    "        if year == years[0]:\n",
    "            out_ds.to_zarr(output, consolidated=True, mode='w')\n",
    "        else:\n",
    "            out_ds.to_zarr(output, consolidated=True, mode='a', append_dim='year')"
   ]
  }
 ],
 "metadata": {
  "kernelspec": {
   "display_name": "Python [conda env:carbonplan]",
   "language": "python",
   "name": "conda-env-carbonplan-py"
  },
  "language_info": {
   "codemirror_mode": {
    "name": "ipython",
    "version": 3
   },
   "file_extension": ".py",
   "mimetype": "text/x-python",
   "name": "python",
   "nbconvert_exporter": "python",
   "pygments_lexer": "ipython3",
   "version": "3.10.10"
  }
 },
 "nbformat": 4,
 "nbformat_minor": 5
}
